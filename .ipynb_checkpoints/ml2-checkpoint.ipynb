{
 "cells": [
  {
   "cell_type": "code",
   "execution_count": 20,
   "id": "f43ce56b-d461-486c-9971-87f6285ef155",
   "metadata": {},
   "outputs": [],
   "source": [
    "import numpy as np\n",
    "import pandas as pd\n",
    "import matplotlib.pyplot as plt\n",
    "from sklearn import datasets, linear_model\n",
    "from sklearn.metrics import mean_squared_error"
   ]
  },
  {
   "cell_type": "markdown",
   "id": "17f51845-86ea-4fc9-a85a-7206d5b3e52a",
   "metadata": {},
   "source": [
    "- **from sklearn import datasets, linear_model**  is use to imort linear_model\n",
    "-  **from sklearn.metrics import mean_squared_error** is use to calculate mean squared error\n",
    "  #### mean_squared_error\n",
    "  - **MSE = (Σ(Y_pred - Y_true)^2) / n**\n",
    "  - Mean Squared Error (MSE) is a widely used metric in statistics and machine learning to measure the average squared difference between the predicted values and the actual (true) values. It's particularly common in regression tasks, where you are trying to predict a continuous outcome based on input features.\n",
    "\n",
    "#### **for eg.->**\n",
    "-  **suppose,** Actual House Prices: [200, 300, 400, 600, 800], Predicted House Prices: [180, 320, 360, 550, 750]\n",
    "  - Squared Difference for Data Point 1: (200 - 180)^2 = 400\n",
    "  - Squared Difference for Data Point 2: (300 - 320)^2 = 400\n",
    "  - Squared Difference for Data Point 3: (400 - 360)^2 = 1600\n",
    "  - Squared Difference for Data Point 4: (600 - 550)^2 = 2500\n",
    "  - Squared Difference for Data Point 5: (800 - 750)^2 = 2500\n",
    "  - Sum up the squared differences: 400 + 400 + 1600 + 2500 + 2500 = 7400\n",
    "\n",
    "  - Divide the sum by the number of data points (5 in this case): 7400 / 5 = 1480"
   ]
  },
  {
   "cell_type": "code",
   "execution_count": 31,
   "id": "06db6056-3e76-4034-82d3-37a127cd568f",
   "metadata": {},
   "outputs": [
    {
     "name": "stdout",
     "output_type": "stream",
     "text": [
      "[[ 0.06169621]\n",
      " [-0.05147406]\n",
      " [ 0.04445121]\n",
      " [-0.01159501]\n",
      " [-0.03638469]\n",
      " [-0.04069594]\n",
      " [-0.04716281]\n",
      " [-0.00189471]\n",
      " [ 0.06169621]\n",
      " [ 0.03906215]\n",
      " [-0.08380842]\n",
      " [ 0.01750591]\n",
      " [-0.02884001]\n",
      " [-0.00189471]\n",
      " [-0.02560657]\n",
      " [-0.01806189]\n",
      " [ 0.04229559]\n",
      " [ 0.01211685]\n",
      " [-0.0105172 ]\n",
      " [-0.01806189]]\n"
     ]
    }
   ],
   "source": [
    "diabetes = datasets.load_diabetes()\n",
    "#print(diabetse.DESCR)\n",
    "diabetes_x = diabetes.data[:,np.newaxis,2]\n",
    "print(diabetes_x[:20])  # Print the first 20 elements"
   ]
  },
  {
   "cell_type": "code",
   "execution_count": 22,
   "id": "441c9f6e-731e-431b-8182-f46dc755c2ee",
   "metadata": {},
   "outputs": [
    {
     "name": "stdout",
     "output_type": "stream",
     "text": [
      "mean squared erro is:  22916.762209847675\n"
     ]
    }
   ],
   "source": [
    "diabetes_x_train = diabetes_x[: -30]\n",
    "diabetes_x_test = diabetes_x[-30:]\n",
    "\n",
    "diabetes_y_train = diabetes.target[:-30]\n",
    "diabetes_y_test = diabetes.target[-30:]\n",
    "model = linear_model.LinearRegression()\n",
    "model.fit(diabetes_x_train, diabetes_x_train)\n",
    "diabetes_y_predicted = model.predict(diabetes_x_test)\n",
    "print(\"mean squared erro is: \",mean_squared_error(diabetes_y_test,diabetes_y_predicted))\n"
   ]
  },
  {
   "cell_type": "code",
   "execution_count": null,
   "id": "695464a5-8dfc-4c71-a8f4-411d94181db7",
   "metadata": {},
   "outputs": [],
   "source": []
  }
 ],
 "metadata": {
  "kernelspec": {
   "display_name": "Python 3 (ipykernel)",
   "language": "python",
   "name": "python3"
  },
  "language_info": {
   "codemirror_mode": {
    "name": "ipython",
    "version": 3
   },
   "file_extension": ".py",
   "mimetype": "text/x-python",
   "name": "python",
   "nbconvert_exporter": "python",
   "pygments_lexer": "ipython3",
   "version": "3.11.4"
  }
 },
 "nbformat": 4,
 "nbformat_minor": 5
}
